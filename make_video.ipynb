{
 "cells": [
  {
   "cell_type": "code",
   "execution_count": 15,
   "id": "ffcb9bef-f1b3-4850-96d7-caeec366679e",
   "metadata": {},
   "outputs": [
    {
     "name": "stderr",
     "output_type": "stream",
     "text": [
      "/tmp/ipykernel_5398/748803712.py:22: DeprecationWarning: Starting with ImageIO v3 the behavior of this function will switch to that of iio.v3.imread. To keep the current behavior (and make this warning disappear) use `import imageio.v2 as imageio` or call `imageio.v2.imread` directly.\n",
      "  image = imageio.imread(file)\n",
      "IMAGEIO FFMPEG_WRITER WARNING: input image is not divisible by macro_block_size=16, resizing from (2154, 2233) to (2160, 2240) to ensure video compatibility with most codecs and players. To prevent resizing, make your input image divisible by the macro_block_size or set the macro_block_size to 1 (risking incompatibility).\n",
      "[swscaler @ 0x636a0f294040] Warning: data is not aligned! This can lead to a speed loss\n"
     ]
    },
    {
     "name": "stdout",
     "output_type": "stream",
     "text": [
      "MP4 movie saved as: ./raw_movies/output_movie_s45.mp4\n"
     ]
    }
   ],
   "source": [
    "import imageio\n",
    "import os\n",
    "\n",
    "# Path to folder containing your images\n",
    "czi_filename = '/mnt/storage_sda/Projects/imaging_data/mix_dilution_FibronectinPDK_24hr_5x_1x_JDF_9may2025-Scene-45-F10-F10/'\n",
    "image_dir = os.path.join(czi_filename, 'enhanced_rgb_frames') #location of rbg frams# e.g., 'cell_outputs/' or './frames'\n",
    "\n",
    "# Output video file name\n",
    "output_movie = './raw_movies/output_movie_s45.mp4'\n",
    "\n",
    "# Get all image filenames (sorted)\n",
    "image_files = sorted([\n",
    "    os.path.join(image_dir, fname)\n",
    "    for fname in os.listdir(image_dir)\n",
    "    if fname.lower().endswith(('.png'))\n",
    "])\n",
    "\n",
    "\n",
    "# Create video writer\n",
    "with imageio.get_writer(output_movie, fps=10, codec='libx264') as writer:\n",
    "    for file in image_files:\n",
    "        image = imageio.imread(file)\n",
    "        writer.append_data(image)\n",
    "\n",
    "print(f\"MP4 movie saved as: {output_movie}\")\n"
   ]
  },
  {
   "cell_type": "code",
   "execution_count": null,
   "id": "954a6f3e-86cf-4c31-984d-bf67d8344f7b",
   "metadata": {},
   "outputs": [],
   "source": []
  }
 ],
 "metadata": {
  "kernelspec": {
   "display_name": "Python 3 (ipykernel)",
   "language": "python",
   "name": "python3"
  },
  "language_info": {
   "codemirror_mode": {
    "name": "ipython",
    "version": 3
   },
   "file_extension": ".py",
   "mimetype": "text/x-python",
   "name": "python",
   "nbconvert_exporter": "python",
   "pygments_lexer": "ipython3",
   "version": "3.10.13"
  }
 },
 "nbformat": 4,
 "nbformat_minor": 5
}
